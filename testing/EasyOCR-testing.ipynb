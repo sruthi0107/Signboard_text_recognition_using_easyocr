{
 "cells": [
  {
   "cell_type": "markdown",
   "metadata": {},
   "source": [
    "# Sign Board translation from vernacular languages\n",
    "## Team Members\n",
    "### Sruthi srinivasan 19BAI1046\n",
    "### A.Prasad 19BAI1061\n",
    "### Vishnu Prasad 19BAI1127"
   ]
  },
  {
   "cell_type": "code",
   "execution_count": 1,
   "metadata": {},
   "outputs": [],
   "source": [
    "import matplotlib.pyplot as plt\n",
    "import cv2\n",
    "import easyocr\n",
    "import os\n",
    "from pylab import rcParams\n",
    "from IPython.display import Image\n",
    "import numpy as np"
   ]
  },
  {
   "cell_type": "code",
   "execution_count": 2,
   "metadata": {},
   "outputs": [],
   "source": [
    "def accuracy(output,Label):\n",
    "    count=0\n",
    "    str=\"\"\n",
    "    for i in output:\n",
    "        str+=i[1]+\" \"\n",
    "    length=len(Label)\n",
    "    if('\\n' in Label):\n",
    "        length=len(Label)-1\n",
    "    if(' ' in Label):\n",
    "        length=len(Label)-1\n",
    "    Label=Label.split()\n",
    "    for i in range(len(Label)):\n",
    "        if(Label[i] in str):\n",
    "            count+=len(Label[i])\n",
    "        else:\n",
    "            for j in range(len(Label[i])):\n",
    "                if(Label[i][j] in str):\n",
    "                    count+=1\n",
    "                    str.replace(Label[i][j], '',1)\n",
    "    return count/length"
   ]
  },
  {
   "cell_type": "markdown",
   "metadata": {},
   "source": [
    "Inference: The algorithm initially checks whether a word from the labels is actually present in the predicted text.If the exact words are present then the algorithm will add the length of the correct word to a variable called count. If its not present then the algorithm will check character by character, if the character is present then the count is incremented by 1 and that particular character is being deleted from the predicted text to take in consideration of multiple occurances of a string"
   ]
  },
  {
   "cell_type": "code",
   "execution_count": 3,
   "metadata": {},
   "outputs": [],
   "source": [
    "def OCR(path,code):\n",
    "    reader1=easyocr.Reader([code],gpu=False)\n",
    "    images = []\n",
    "    for filename in os.listdir(path):\n",
    "        img = cv2.imread(os.path.join(path,filename))\n",
    "        if img is not None:\n",
    "            images.append(img)\n",
    "    f_path=path+\"/Labels.txt\"\n",
    "    f = open(f_path, \"r\",encoding=\"utf-8\")\n",
    "    labels=[]\n",
    "    accurate=[]\n",
    "    for read in f.readlines():\n",
    "        labels.append(read)\n",
    "    for i in range(len(images)):\n",
    "        output=reader1.readtext(images[i])\n",
    "        accurate.append(accuracy(output,labels[i]))\n",
    "    return accurate"
   ]
  },
  {
   "cell_type": "markdown",
   "metadata": {},
   "source": [
    "Inference: This function gets the directory and the code corresponding to the directory as arguments. The module is being initialised based on the code given. Now the images present in the directory are being loaded and saved into a list called images.Now these images are passed into the reader and the output is being generated which is inturn being sent to the accuracy function"
   ]
  },
  {
   "cell_type": "code",
   "execution_count": 6,
   "metadata": {},
   "outputs": [
    {
     "name": "stderr",
     "output_type": "stream",
     "text": [
      "Using CPU. Note: This module is much faster with a GPU.\n"
     ]
    },
    {
     "name": "stdout",
     "output_type": "stream",
     "text": [
      "[0.9166666666666666, 0.9230769230769231, 1.0, 1.0]\n"
     ]
    }
   ],
   "source": [
    "print(OCR(\"Tamil\",\"ta\"))"
   ]
  },
  {
   "cell_type": "markdown",
   "metadata": {},
   "source": [
    "Average accuracy for the language Tamil:0.959"
   ]
  },
  {
   "cell_type": "code",
   "execution_count": 7,
   "metadata": {},
   "outputs": [
    {
     "name": "stderr",
     "output_type": "stream",
     "text": [
      "Using CPU. Note: This module is much faster with a GPU.\n"
     ]
    },
    {
     "name": "stdout",
     "output_type": "stream",
     "text": [
      "[0.9285714285714286, 0.8235294117647058, 0.7708333333333334, 0.8656716417910447]\n"
     ]
    }
   ],
   "source": [
    "print(OCR(\"English\",\"en\"))"
   ]
  },
  {
   "cell_type": "markdown",
   "metadata": {},
   "source": [
    "Average accuracy for the language English:0.846"
   ]
  },
  {
   "cell_type": "code",
   "execution_count": 8,
   "metadata": {},
   "outputs": [
    {
     "name": "stderr",
     "output_type": "stream",
     "text": [
      "Using CPU. Note: This module is much faster with a GPU.\n"
     ]
    },
    {
     "name": "stdout",
     "output_type": "stream",
     "text": [
      "[0.8333333333333334, 1.0, 0.7894736842105263, 0.9375]\n"
     ]
    }
   ],
   "source": [
    "print(OCR(\"Hindi\",\"hi\"))"
   ]
  },
  {
   "cell_type": "markdown",
   "metadata": {},
   "source": [
    "Average accuracy for the language Hindi:0.889"
   ]
  },
  {
   "cell_type": "code",
   "execution_count": 9,
   "metadata": {},
   "outputs": [
    {
     "name": "stderr",
     "output_type": "stream",
     "text": [
      "Using CPU. Note: This module is much faster with a GPU.\n"
     ]
    },
    {
     "name": "stdout",
     "output_type": "stream",
     "text": [
      "[0.8666666666666667, 0.9166666666666666, 0.8, 1.0]\n"
     ]
    }
   ],
   "source": [
    "print(OCR(\"Marathi\",\"mr\"))"
   ]
  },
  {
   "cell_type": "markdown",
   "metadata": {},
   "source": [
    "Average accuracy for the language Marathi:0.895"
   ]
  },
  {
   "cell_type": "code",
   "execution_count": 12,
   "metadata": {},
   "outputs": [
    {
     "name": "stderr",
     "output_type": "stream",
     "text": [
      "Using CPU. Note: This module is much faster with a GPU.\n"
     ]
    },
    {
     "name": "stdout",
     "output_type": "stream",
     "text": [
      "[0.9230769230769231, 1.0, 0.5, 0.9]\n"
     ]
    }
   ],
   "source": [
    "print(OCR(\"Bengali\",\"bn\"))"
   ]
  },
  {
   "cell_type": "markdown",
   "metadata": {},
   "source": [
    "Average accuracy for the language Bengali:0.830"
   ]
  },
  {
   "cell_type": "code",
   "execution_count": 6,
   "metadata": {},
   "outputs": [
    {
     "name": "stderr",
     "output_type": "stream",
     "text": [
      "Using CPU. Note: This module is much faster with a GPU.\n"
     ]
    },
    {
     "name": "stdout",
     "output_type": "stream",
     "text": [
      "[0.6428571428571429, 0.15384615384615385, 0.8260869565217391, 1.0]\n"
     ]
    }
   ],
   "source": [
    "print(OCR(\"Kannada\",\"kn\"))"
   ]
  },
  {
   "cell_type": "markdown",
   "metadata": {},
   "source": [
    "Average accuracy for the language Kannada:0.655"
   ]
  },
  {
   "cell_type": "code",
   "execution_count": 4,
   "metadata": {},
   "outputs": [
    {
     "name": "stderr",
     "output_type": "stream",
     "text": [
      "Using CPU. Note: This module is much faster with a GPU.\n"
     ]
    },
    {
     "name": "stdout",
     "output_type": "stream",
     "text": [
      "[0.9, 0.8421052631578947, 0.8181818181818182, 0.875]\n"
     ]
    }
   ],
   "source": [
    "print(OCR(\"Telugu\",\"te\"))"
   ]
  },
  {
   "cell_type": "markdown",
   "metadata": {},
   "source": [
    "Average accuracy for the language Telugu:0.858"
   ]
  },
  {
   "cell_type": "code",
   "execution_count": null,
   "metadata": {},
   "outputs": [],
   "source": []
  }
 ],
 "metadata": {
  "kernelspec": {
   "display_name": "Python 3",
   "language": "python",
   "name": "python3"
  },
  "language_info": {
   "codemirror_mode": {
    "name": "ipython",
    "version": 3
   },
   "file_extension": ".py",
   "mimetype": "text/x-python",
   "name": "python",
   "nbconvert_exporter": "python",
   "pygments_lexer": "ipython3",
   "version": "3.7.6"
  }
 },
 "nbformat": 4,
 "nbformat_minor": 4
}
