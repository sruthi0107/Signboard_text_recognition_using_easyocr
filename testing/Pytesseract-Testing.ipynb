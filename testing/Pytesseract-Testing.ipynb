{
 "cells": [
  {
   "cell_type": "markdown",
   "metadata": {},
   "source": [
    "# Sign Board translation from vernacular languages\n",
    "## Team Members\n",
    "### Sruthi srinivasan 19BAI1046\n",
    "### A.Prasad 19BAI1061\n",
    "### Vishnu Prasad 19BAI1127\n"
   ]
  },
  {
   "cell_type": "code",
   "execution_count": 1,
   "metadata": {},
   "outputs": [],
   "source": [
    "from PIL import Image\n",
    "import pytesseract\n",
    "import cv2\n",
    "from IPython.display import Image\n",
    "import os"
   ]
  },
  {
   "cell_type": "code",
   "execution_count": 2,
   "metadata": {},
   "outputs": [],
   "source": [
    "config = r'--oem 3 --psm 6'"
   ]
  },
  {
   "cell_type": "code",
   "execution_count": 3,
   "metadata": {},
   "outputs": [],
   "source": [
    "pytesseract.pytesseract.tesseract_cmd =r'C:\\Program Files (x86)\\Tesseract-OCR\\tesseract'"
   ]
  },
  {
   "cell_type": "code",
   "execution_count": 4,
   "metadata": {},
   "outputs": [],
   "source": [
    "def accuracy(output,Label):\n",
    "    count=0\n",
    "    str=\"\"\n",
    "    output=output.split(\"\\n\")\n",
    "    for i in output:\n",
    "        str+=i+\" \"\n",
    "    length=len(Label)\n",
    "    if('\\n' in Label):\n",
    "        length=len(Label)-1\n",
    "    if(' ' in Label):\n",
    "        length=len(Label)-1\n",
    "    Label=Label.split()\n",
    "    for i in range(len(Label)):\n",
    "        if(Label[i] in str):\n",
    "            count+=len(Label[i])\n",
    "        else:\n",
    "            for j in range(len(Label[i])):\n",
    "                if(Label[i][j] in str):\n",
    "                    count+=1\n",
    "                    str.replace(Label[i][j], '',1)\n",
    "    return count/length"
   ]
  },
  {
   "cell_type": "markdown",
   "metadata": {},
   "source": [
    "Inference: The algorithm initially checks whether a word from the labels is actually present in the predicted text.If the exact words are present then the algorithm will add the length of the correct word to a variable called count. If its not present then the algorithm will check character by character, if the character is present then the count is incremented by 1 and that particular character is being deleted from the predicted text to take in consideration of multiple occurances of a string"
   ]
  },
  {
   "cell_type": "code",
   "execution_count": 5,
   "metadata": {},
   "outputs": [],
   "source": [
    "def OCR(path,code):\n",
    "    images = []\n",
    "    for filename in os.listdir(path):\n",
    "        img = cv2.imread(os.path.join(path,filename))\n",
    "        if img is not None:\n",
    "            images.append(img)\n",
    "    f_path=path+\"/Labels.txt\"\n",
    "    f = open(f_path, \"r\",encoding=\"utf-8\")\n",
    "    labels=[]\n",
    "    accurate=[]\n",
    "    for read in f.readlines():\n",
    "        labels.append(read)\n",
    "    for i in range(len(images)):\n",
    "        output=pytesseract.image_to_string(images[i],lang=code,config=config)\n",
    "        #print(output)\n",
    "        accurate.append(accuracy(output,labels[i]))\n",
    "    return accurate"
   ]
  },
  {
   "cell_type": "markdown",
   "metadata": {},
   "source": [
    "Inference: This function gets the directory and the code corresponding to the directory as arguments. The module is being initialised based on the code given. Now the images present in the directory are being loaded and saved into a list called images.Now these images are passed into the reader and the output is being generated which is inturn being sent to the accuracy function"
   ]
  },
  {
   "cell_type": "code",
   "execution_count": 18,
   "metadata": {},
   "outputs": [
    {
     "name": "stdout",
     "output_type": "stream",
     "text": [
      "[0.3333333333333333, 0.3076923076923077, 0.8333333333333334, 0.7692307692307693]\n"
     ]
    }
   ],
   "source": [
    "print(OCR(\"Tamil\",\"tam\"))"
   ]
  },
  {
   "cell_type": "markdown",
   "metadata": {},
   "source": [
    "Average accuracy for the language Tamil:0.56"
   ]
  },
  {
   "cell_type": "code",
   "execution_count": 19,
   "metadata": {},
   "outputs": [
    {
     "name": "stdout",
     "output_type": "stream",
     "text": [
      "[0.0, 0.5294117647058824, 0.0625, 0.8656716417910447]\n"
     ]
    }
   ],
   "source": [
    "print(OCR(\"English\",\"eng\"))"
   ]
  },
  {
   "cell_type": "markdown",
   "metadata": {},
   "source": [
    "Average accuracy for the language English:0.364"
   ]
  },
  {
   "cell_type": "code",
   "execution_count": 20,
   "metadata": {},
   "outputs": [
    {
     "name": "stdout",
     "output_type": "stream",
     "text": [
      "[0.6666666666666666, 1.0, 0.6842105263157895, 0.4375]\n"
     ]
    }
   ],
   "source": [
    "print(OCR(\"Hindi\",\"hin\"))"
   ]
  },
  {
   "cell_type": "markdown",
   "metadata": {},
   "source": [
    "Average accuracy for the language Hindi:0.696"
   ]
  },
  {
   "cell_type": "code",
   "execution_count": 21,
   "metadata": {},
   "outputs": [
    {
     "name": "stdout",
     "output_type": "stream",
     "text": [
      "[0.6444444444444445, 0.16666666666666666, 0.2, 0.4]\n"
     ]
    }
   ],
   "source": [
    "print(OCR(\"Marathi\",\"mar\"))"
   ]
  },
  {
   "cell_type": "markdown",
   "metadata": {},
   "source": [
    "Average accuracy for the language Marathi:0.352"
   ]
  },
  {
   "cell_type": "code",
   "execution_count": 8,
   "metadata": {},
   "outputs": [
    {
     "name": "stdout",
     "output_type": "stream",
     "text": [
      "[0.0, 1.0, 0.8888888888888888, 0.0]\n"
     ]
    }
   ],
   "source": [
    "print(OCR(\"Bengali\",\"ben\"))"
   ]
  },
  {
   "cell_type": "markdown",
   "metadata": {},
   "source": [
    "Average accuracy for the language Bengali:0.478"
   ]
  },
  {
   "cell_type": "code",
   "execution_count": 7,
   "metadata": {},
   "outputs": [
    {
     "name": "stdout",
     "output_type": "stream",
     "text": [
      "[0.07142857142857142, 0.23076923076923078, 0.2608695652173913, 1.0]\n"
     ]
    }
   ],
   "source": [
    "print(OCR(\"Kannada\",\"kan\"))"
   ]
  },
  {
   "cell_type": "markdown",
   "metadata": {},
   "source": [
    "Average accuracy for the language Kannada:0.39"
   ]
  },
  {
   "cell_type": "code",
   "execution_count": 6,
   "metadata": {},
   "outputs": [
    {
     "name": "stdout",
     "output_type": "stream",
     "text": [
      "[0.2, 0.0, 0.2727272727272727, 0.16666666666666666]\n"
     ]
    }
   ],
   "source": [
    "print(OCR(\"Telugu\",\"tel\"))"
   ]
  },
  {
   "cell_type": "markdown",
   "metadata": {},
   "source": [
    "Average accuracy for the language Telugu:0.159"
   ]
  },
  {
   "cell_type": "code",
   "execution_count": null,
   "metadata": {},
   "outputs": [],
   "source": []
  }
 ],
 "metadata": {
  "kernelspec": {
   "display_name": "Python 3",
   "language": "python",
   "name": "python3"
  },
  "language_info": {
   "codemirror_mode": {
    "name": "ipython",
    "version": 3
   },
   "file_extension": ".py",
   "mimetype": "text/x-python",
   "name": "python",
   "nbconvert_exporter": "python",
   "pygments_lexer": "ipython3",
   "version": "3.7.6"
  }
 },
 "nbformat": 4,
 "nbformat_minor": 4
}
